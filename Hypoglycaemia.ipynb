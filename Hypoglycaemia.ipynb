{
 "cells": [
  {
   "cell_type": "code",
   "execution_count": 1,
   "metadata": {},
   "outputs": [],
   "source": [
    "import os\n",
    "import toml\n",
    "import multiprocessing as mp\n",
    "from functools import reduce, partial\n",
    "\n",
    "import pandas as pd\n",
    "import scipy\n",
    "import numpy as np\n",
    "import seaborn as sns\n",
    "import matplotlib.pyplot as plt\n",
    "import datetime as dt\n",
    "\n",
    "import copy\n",
    "import gc\n",
    "\n",
    "import statsmodels.api as sm\n",
    "import statsmodels.formula.api as smf\n",
    "from statsmodels.tsa.seasonal import seasonal_decompose\n",
    "\n",
    "from sklearn.decomposition import PCA\n",
    "from sklearn import preprocessing\n",
    "\n",
    "from typing import List, Dict, NoReturn, Any, Callable, Union, Optional\n",
    "\n",
    "from preproc import import_csv, new_hybrid_interpolator\n",
    "from customobjs import objdict"
   ]
  },
  {
   "cell_type": "code",
   "execution_count": 6,
   "metadata": {},
   "outputs": [],
   "source": [
    "%matplotlib inline\n",
    "plt.style.use('seaborn')\n",
    "plt.rcParams['figure.figsize'] = (15, 8)"
   ]
  },
  {
   "cell_type": "code",
   "execution_count": 3,
   "metadata": {},
   "outputs": [
    {
     "name": "stderr",
     "output_type": "stream",
     "text": [
      "/home/gml/.cache/pypoetry/virtualenvs/diabetes-analysis-lNCkfS_0-py3.7/lib/python3.7/site-packages/IPython/core/interactiveshell.py:3254: DtypeWarning: Columns (1,32) have mixed types.Specify dtype option on import or set low_memory=False.\n",
      "  if (await self.run_code(code, result,  async_=asy)):\n"
     ]
    }
   ],
   "source": [
    "y = import_csv(\"interpolated/NG1988812H_Maganna_Gustavo_(27-05-20)_(9-06-20)_interpolated.csv\")"
   ]
  },
  {
   "cell_type": "code",
   "execution_count": 4,
   "metadata": {},
   "outputs": [
    {
     "data": {
      "text/plain": [
       "['SUSPEND BEFORE LOW ALARM, QUIET',\n",
       " 'SUSPEND BEFORE LOW ALARM, PATIENT UNRESPONSIVE, MEDICAL DEVICE EMERGENCY']"
      ]
     },
     "execution_count": 4,
     "metadata": {},
     "output_type": "execute_result"
    }
   ],
   "source": [
    "keyword = 'SUSPEND BEFORE LOW'\n",
    "alarms  = []\n",
    "for i in y.Alarm.dropna().unique().tolist():\n",
    "    if keyword in i:\n",
    "        alarms.append(i)\n",
    "alarms"
   ]
  },
  {
   "cell_type": "code",
   "execution_count": 9,
   "metadata": {},
   "outputs": [
    {
     "name": "stdout",
     "output_type": "stream",
     "text": [
      "Number of days in data : 16\n"
     ]
    }
   ],
   "source": [
    "dates = pd.unique(y.index.date)\n",
    "n_total = len(dates)\n",
    "print(f\"Number of days in data : {len(dates)}\")"
   ]
  },
  {
   "cell_type": "code",
   "execution_count": 11,
   "metadata": {},
   "outputs": [],
   "source": [
    "n_month = 30\n",
    "n_latest = 4\n",
    "#month = data.loc[dates[len(dates) - n_month]:dates[-1], :] if n_month < n_total else None\n",
    "latest = y.loc[dates[len(dates)- n_latest]:dates[-1], :] if n_latest < n_total else None\n",
    "lday = y.loc[dates[len(dates)- 1]:dates[-1], :] if n_latest < n_total else None"
   ]
  },
  {
   "cell_type": "code",
   "execution_count": 12,
   "metadata": {},
   "outputs": [
    {
     "data": {
      "text/plain": [
       "<matplotlib.axes._subplots.AxesSubplot at 0x7ff596e90f50>"
      ]
     },
     "execution_count": 12,
     "metadata": {},
     "output_type": "execute_result"
    },
    {
     "data": {
      "image/png": "[encoded data removed]",
      "text/plain": [
       "<Figure size 1080x576 with 1 Axes>"
      ]
     },
     "metadata": {},
     "output_type": "display_data"
    }
   ],
   "source": [
    "latest[ latest.Alarm == 'SUSPEND BEFORE LOW ALARM, QUIET' ].hour.hist()"
   ]
  },
  {
   "cell_type": "code",
   "execution_count": 16,
   "metadata": {},
   "outputs": [
    {
     "data": {
      "text/plain": [
       "<matplotlib.axes._subplots.AxesSubplot at 0x7ff5948644d0>"
      ]
     },
     "execution_count": 16,
     "metadata": {},
     "output_type": "execute_result"
    },
    {
     "data": {
      "image/png": "[encoded data removed]",
      "text/plain": [
       "<Figure size 1080x576 with 1 Axes>"
      ]
     },
     "metadata": {},
     "output_type": "display_data"
    }
   ],
   "source": [
    "latest.loc[str(dates[-2]), \"Basal Rate (U/h)\"] .plot()"
   ]
  },
  {
   "cell_type": "code",
   "execution_count": 22,
   "metadata": {},
   "outputs": [
    {
     "data": {
      "text/plain": [
       "count    180.000000\n",
       "mean       0.642778\n",
       "std        0.068324\n",
       "min        0.000000\n",
       "25%        0.650000\n",
       "50%        0.650000\n",
       "75%        0.650000\n",
       "max        0.650000\n",
       "Name: Basal Rate (U/h), dtype: float64"
      ]
     },
     "execution_count": 22,
     "metadata": {},
     "output_type": "execute_result"
    }
   ],
   "source": [
    "latest[latest.hour==22][\"Basal Rate (U/h)\"].describe()"
   ]
  },
  {
   "cell_type": "code",
   "execution_count": 13,
   "metadata": {},
   "outputs": [
    {
     "data": {
      "text/plain": [
       "Index(['New Device Time', 'BG Reading (mg/dL)', 'Linked BG Meter ID',\n",
       "       'Basal Rate (U/h)', 'Temp Basal Amount', 'Temp Basal Type',\n",
       "       'Temp Basal Duration (h:mm:ss)', 'Bolus Type',\n",
       "       'Bolus Volume Selected (U)', 'Bolus Volume Delivered (U)',\n",
       "       'Bolus Duration (h:mm:ss)', 'Prime Type', 'Prime Volume Delivered (U)',\n",
       "       'Alarm', 'Suspend', 'Rewind', 'BWZ Estimate (U)',\n",
       "       'BWZ Target High BG (mg/dL)', 'BWZ Target Low BG (mg/dL)',\n",
       "       'BWZ Carb Ratio (g/U)', 'BWZ Insulin Sensitivity (mg/dL/U)',\n",
       "       'BWZ Carb Input (grams)', 'BWZ BG Input (mg/dL)',\n",
       "       'BWZ Correction Estimate (U)', 'BWZ Food Estimate (U)',\n",
       "       'BWZ Active Insulin (U)', 'Sensor Calibration BG (mg/dL)',\n",
       "       'Sensor Glucose (mg/dL)', 'ISIG Value', 'Event Marker', 'Bolus Number',\n",
       "       'Bolus Cancellation Reason', 'BWZ Unabsorbed Insulin Total (U)',\n",
       "       'Final Bolus Estimate', 'Scroll Step Size', 'Insulin Action Curve Time',\n",
       "       'Sensor Calibration Rejected Reason', 'Preset Bolus', 'Bolus Source',\n",
       "       'Network Device Associated Reason',\n",
       "       'Network Device Disassociated Reason',\n",
       "       'Network Device Disconnected Reason', 'Sensor Exception',\n",
       "       'Preset Temp Basal Name', 'hour', 'minutes', 'x(t)', 'y(t)'],\n",
       "      dtype='object')"
      ]
     },
     "execution_count": 13,
     "metadata": {},
     "output_type": "execute_result"
    }
   ],
   "source": [
    "latest.columns"
   ]
  },
  {
   "cell_type": "code",
   "execution_count": null,
   "metadata": {},
   "outputs": [],
   "source": []
  }
 ],
 "metadata": {
  "kernelspec": {
   "display_name": "Python 3",
   "language": "python",
   "name": "python3"
  },
  "language_info": {
   "codemirror_mode": {
    "name": "ipython",
    "version": 3
   },
   "file_extension": ".py",
   "mimetype": "text/x-python",
   "name": "python",
   "nbconvert_exporter": "python",
   "pygments_lexer": "ipython3",
   "version": "3.7.5"
  }
 },
 "nbformat": 4,
 "nbformat_minor": 4
}
